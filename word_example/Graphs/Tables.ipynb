{
 "cells": [
  {
   "cell_type": "code",
   "execution_count": 1,
   "id": "f98238ae",
   "metadata": {},
   "outputs": [],
   "source": [
    "import re\n",
    "import matplotlib.pyplot as plt\n",
    "from matplotlib.collections import EventCollection\n",
    "import numpy as np"
   ]
  },
  {
   "cell_type": "code",
   "execution_count": 2,
   "id": "4cecbc57",
   "metadata": {},
   "outputs": [],
   "source": [
    "class pathdata(object):\n",
    "    def __init__(self, sourcefile):\n",
    "        self.source = sourcefile\n",
    "        self.epochs = []\n",
    "        self.dist = []\n",
    "        self.sparsity = []\n",
    "        self.finalerr = 0\n",
    "        self.finalspar = 0\n",
    "        self.percav = {}\n",
    "        \n",
    "        self.fill_data()\n",
    "        \n",
    "        \n",
    "    def fill_data(self):\n",
    "        with open(self.source, \"r\") as myfile:\n",
    "            file_learned = True\n",
    "            for line in myfile:\n",
    "                is_train = re.search(\"Epoch:\", line)\n",
    "                val_los = re.search(\"Loss: \\d+\\.\\d+\", line)\n",
    "                percentile = re.search(\"Percentile \\d+:\", line)\n",
    "                if is_train:\n",
    "                    self.epochs.append(int(re.search(\"\\d+\", line).group()))\n",
    "                    self.dist.append(float(re.search(\"\\d+\\.\\d+\", val_los.group()).group()))\n",
    "                    self.sparsity.append(float(re.search(\"\\d+\\.\\d+\", re.search(\"Sparsity: \\d+\\.\\d+\", line).group()).group()))\n",
    "                elif re.search(\"Test Loss:\", line):\n",
    "                    self.finalerr = float(re.search(\"\\d+\\.\\d+\", val_los.group()).group())\n",
    "                    self.finalspar = float(re.search(\"\\d+\\.\\d+\", re.search(\"Sparsity: \\d+\\.\\d+\", line).group()).group())\n",
    "                elif percentile:\n",
    "                    p = int(re.search(\"\\d+\", percentile.group()).group())\n",
    "                    self.percav[p] = float(re.search(\"\\d+\\.\\d+\", val_los.group()).group())\n",
    "                if file_learned and re.search(\"nan\", line):\n",
    "                    file_learned = False\n",
    "                    print(\"Error occurred in file {}\".format(self.source))"
   ]
  },
  {
   "cell_type": "code",
   "execution_count": 3,
   "id": "6e80dcda",
   "metadata": {},
   "outputs": [],
   "source": [
    "class summarydata_withstd(object):\n",
    "    def __init__(self, files):\n",
    "        self.files = files\n",
    "        self.avgerror = 0\n",
    "        self.avgerror_std = None\n",
    "        self.avgsparsity = 0\n",
    "        self.avgsparsity_std = None\n",
    "        \n",
    "        self.percs = {}\n",
    "        self.percs_std = {}\n",
    "        \n",
    "        self.summary()\n",
    "        \n",
    "    def summary(self):\n",
    "        pathdatadict = {}\n",
    "        percs1 = {20: [], 40 : [], 60: [], 80: [], 90: [], 95: []}\n",
    "        for i in range(len(self.files)):\n",
    "            pathdatadict[i] = pathdata(self.files[i])\n",
    "            for p in percs1.keys():\n",
    "                percs1[p].append(pathdatadict[i].percav[p])\n",
    "        err = [pathdatadict[i].finalerr for i in range(len(self.files))]\n",
    "        sparse = [pathdatadict[i].finalspar for i in range(len(self.files))]\n",
    "            \n",
    "        self.avgerror = np.mean(err)\n",
    "        self.avgerror_std = np.std(err)\n",
    "        self.avgsparsity = np.mean(sparse)\n",
    "        self.avgsparsity_std = np.std(sparse)\n",
    "        for p in percs1.keys():\n",
    "            self.percs[p] = np.nanmean(percs1[p])\n",
    "            self.percs_std[p] = np.nanstd(percs1[p])\n",
    "              "
   ]
  },
  {
   "cell_type": "code",
   "execution_count": 4,
   "id": "14322fa8",
   "metadata": {},
   "outputs": [],
   "source": [
    "class tablemaker_withstd(object):\n",
    "    def __init__(self, filedict):\n",
    "        self.filedict = filedict\n",
    "        self.filenames = []\n",
    "        self.bes = []\n",
    "        self.be_std = []\n",
    "        self.ps = {20: [], 40 : [], 60: [], 80: [], 90: [], 95: []}\n",
    "        self.ps_std = {20: [], 40 : [], 60: [], 80: [], 90: [], 95: []}\n",
    "        \n",
    "        self.makedata()\n",
    "        \n",
    "    def makedata(self):\n",
    "        for f in self.filedict.keys():\n",
    "            self.filenames.append(f)\n",
    "            fsum = summarydata_withstd(self.filedict[f])\n",
    "            self.bes.append(fsum.avgerror)\n",
    "            self.be_std.append(fsum.avgerror_std)\n",
    "            for p in self.ps.keys():\n",
    "                self.ps[p].append(fsum.percs[p])\n",
    "                self.ps_std[p].append(fsum.percs_std[p])\n",
    "                \n",
    "    def maketable(self):\n",
    "        print(f'\\\\begin{{tabular}}{{c|' + ''.join(['c' for i in range(len(self.filenames))]) + f'}} \\\\hline')\n",
    "        print(' & ' + ' & '.join(self.filenames) + f' \\\\\\\\ \\\\hline')\n",
    "        print('{{\\\\bf Test loss:}} & ' + ' & '.join(['{:.2f} ({:.2f})'.format(self.bes[i], self.be_std[i]) for i in range(len(self.bes))]) + f' \\\\\\\\')\n",
    "        for p in self.ps.keys():\n",
    "            print('{{\\\\bf {}\\\\% Sparse Err.}} & '.format(str(p)) + ' & '.join(['{:.2f} ({:.2f})'.format(self.ps[p][i], self.ps_std[p][i]) for i in range(len(self.ps[p]))]) + f' \\\\\\\\')\n",
    "        print(f'\\\\end{{tabular}}')"
   ]
  },
  {
   "cell_type": "code",
   "execution_count": 7,
   "id": "1e26f2e7",
   "metadata": {},
   "outputs": [
    {
     "ename": "KeyError",
     "evalue": "20",
     "output_type": "error",
     "traceback": [
      "\u001b[0;31m---------------------------------------------------------------------------\u001b[0m",
      "\u001b[0;31mKeyError\u001b[0m                                  Traceback (most recent call last)",
      "Input \u001b[0;32mIn [7]\u001b[0m, in \u001b[0;36m<cell line: 8>\u001b[0;34m()\u001b[0m\n\u001b[1;32m      6\u001b[0m modulidict[\u001b[38;5;124m'\u001b[39m\u001b[38;5;124mKlein\u001b[39m\u001b[38;5;124m'\u001b[39m] \u001b[38;5;241m=\u001b[39m [\u001b[38;5;124m'\u001b[39m\u001b[38;5;124mtraindata/kleinl1dog\u001b[39m\u001b[38;5;132;01m{}\u001b[39;00m\u001b[38;5;124m.txt\u001b[39m\u001b[38;5;124m'\u001b[39m\u001b[38;5;241m.\u001b[39mformat(k) \u001b[38;5;28;01mfor\u001b[39;00m k \u001b[38;5;129;01min\u001b[39;00m mylist]\n\u001b[1;32m      7\u001b[0m modulidict[\u001b[38;5;124m'\u001b[39m\u001b[38;5;124m6-Torus\u001b[39m\u001b[38;5;124m'\u001b[39m] \u001b[38;5;241m=\u001b[39m [\u001b[38;5;124m'\u001b[39m\u001b[38;5;124mtraindata/torus6l1dog\u001b[39m\u001b[38;5;132;01m{}\u001b[39;00m\u001b[38;5;124m.txt\u001b[39m\u001b[38;5;124m'\u001b[39m\u001b[38;5;241m.\u001b[39mformat(k) \u001b[38;5;28;01mfor\u001b[39;00m k \u001b[38;5;129;01min\u001b[39;00m mylist]\n\u001b[0;32m----> 8\u001b[0m moduli \u001b[38;5;241m=\u001b[39m tablemaker_withstd(modulidict)\n\u001b[1;32m     10\u001b[0m controldict \u001b[38;5;241m=\u001b[39m {}\n\u001b[1;32m     11\u001b[0m controldict[\u001b[38;5;124m'\u001b[39m\u001b[38;5;124mTorus\u001b[39m\u001b[38;5;124m'\u001b[39m] \u001b[38;5;241m=\u001b[39m [\u001b[38;5;124m'\u001b[39m\u001b[38;5;124mtraindata/torusl1dog\u001b[39m\u001b[38;5;132;01m{}\u001b[39;00m\u001b[38;5;124m.txt\u001b[39m\u001b[38;5;124m'\u001b[39m\u001b[38;5;241m.\u001b[39mformat(k) \u001b[38;5;28;01mfor\u001b[39;00m k \u001b[38;5;129;01min\u001b[39;00m mylist]\n",
      "Input \u001b[0;32mIn [4]\u001b[0m, in \u001b[0;36mtablemaker_withstd.__init__\u001b[0;34m(self, filedict)\u001b[0m\n\u001b[1;32m      7\u001b[0m \u001b[38;5;28mself\u001b[39m\u001b[38;5;241m.\u001b[39mps \u001b[38;5;241m=\u001b[39m {\u001b[38;5;241m20\u001b[39m: [], \u001b[38;5;241m40\u001b[39m : [], \u001b[38;5;241m60\u001b[39m: [], \u001b[38;5;241m80\u001b[39m: [], \u001b[38;5;241m90\u001b[39m: [], \u001b[38;5;241m95\u001b[39m: []}\n\u001b[1;32m      8\u001b[0m \u001b[38;5;28mself\u001b[39m\u001b[38;5;241m.\u001b[39mps_std \u001b[38;5;241m=\u001b[39m {\u001b[38;5;241m20\u001b[39m: [], \u001b[38;5;241m40\u001b[39m : [], \u001b[38;5;241m60\u001b[39m: [], \u001b[38;5;241m80\u001b[39m: [], \u001b[38;5;241m90\u001b[39m: [], \u001b[38;5;241m95\u001b[39m: []}\n\u001b[0;32m---> 10\u001b[0m \u001b[38;5;28;43mself\u001b[39;49m\u001b[38;5;241;43m.\u001b[39;49m\u001b[43mmakedata\u001b[49m\u001b[43m(\u001b[49m\u001b[43m)\u001b[49m\n",
      "Input \u001b[0;32mIn [4]\u001b[0m, in \u001b[0;36mtablemaker_withstd.makedata\u001b[0;34m(self)\u001b[0m\n\u001b[1;32m     13\u001b[0m \u001b[38;5;28;01mfor\u001b[39;00m f \u001b[38;5;129;01min\u001b[39;00m \u001b[38;5;28mself\u001b[39m\u001b[38;5;241m.\u001b[39mfiledict\u001b[38;5;241m.\u001b[39mkeys():\n\u001b[1;32m     14\u001b[0m     \u001b[38;5;28mself\u001b[39m\u001b[38;5;241m.\u001b[39mfilenames\u001b[38;5;241m.\u001b[39mappend(f)\n\u001b[0;32m---> 15\u001b[0m     fsum \u001b[38;5;241m=\u001b[39m \u001b[43msummarydata_withstd\u001b[49m\u001b[43m(\u001b[49m\u001b[38;5;28;43mself\u001b[39;49m\u001b[38;5;241;43m.\u001b[39;49m\u001b[43mfiledict\u001b[49m\u001b[43m[\u001b[49m\u001b[43mf\u001b[49m\u001b[43m]\u001b[49m\u001b[43m)\u001b[49m\n\u001b[1;32m     16\u001b[0m     \u001b[38;5;28mself\u001b[39m\u001b[38;5;241m.\u001b[39mbes\u001b[38;5;241m.\u001b[39mappend(fsum\u001b[38;5;241m.\u001b[39mavgerror)\n\u001b[1;32m     17\u001b[0m     \u001b[38;5;28mself\u001b[39m\u001b[38;5;241m.\u001b[39mbe_std\u001b[38;5;241m.\u001b[39mappend(fsum\u001b[38;5;241m.\u001b[39mavgerror_std)\n",
      "Input \u001b[0;32mIn [3]\u001b[0m, in \u001b[0;36msummarydata_withstd.__init__\u001b[0;34m(self, files)\u001b[0m\n\u001b[1;32m      9\u001b[0m \u001b[38;5;28mself\u001b[39m\u001b[38;5;241m.\u001b[39mpercs \u001b[38;5;241m=\u001b[39m {}\n\u001b[1;32m     10\u001b[0m \u001b[38;5;28mself\u001b[39m\u001b[38;5;241m.\u001b[39mpercs_std \u001b[38;5;241m=\u001b[39m {}\n\u001b[0;32m---> 12\u001b[0m \u001b[38;5;28;43mself\u001b[39;49m\u001b[38;5;241;43m.\u001b[39;49m\u001b[43msummary\u001b[49m\u001b[43m(\u001b[49m\u001b[43m)\u001b[49m\n",
      "Input \u001b[0;32mIn [3]\u001b[0m, in \u001b[0;36msummarydata_withstd.summary\u001b[0;34m(self)\u001b[0m\n\u001b[1;32m     18\u001b[0m     pathdatadict[i] \u001b[38;5;241m=\u001b[39m pathdata(\u001b[38;5;28mself\u001b[39m\u001b[38;5;241m.\u001b[39mfiles[i])\n\u001b[1;32m     19\u001b[0m     \u001b[38;5;28;01mfor\u001b[39;00m p \u001b[38;5;129;01min\u001b[39;00m percs1\u001b[38;5;241m.\u001b[39mkeys():\n\u001b[0;32m---> 20\u001b[0m         percs1[p]\u001b[38;5;241m.\u001b[39mappend(\u001b[43mpathdatadict\u001b[49m\u001b[43m[\u001b[49m\u001b[43mi\u001b[49m\u001b[43m]\u001b[49m\u001b[38;5;241;43m.\u001b[39;49m\u001b[43mpercav\u001b[49m\u001b[43m[\u001b[49m\u001b[43mp\u001b[49m\u001b[43m]\u001b[49m)\n\u001b[1;32m     21\u001b[0m err \u001b[38;5;241m=\u001b[39m [pathdatadict[i]\u001b[38;5;241m.\u001b[39mfinalerr \u001b[38;5;28;01mfor\u001b[39;00m i \u001b[38;5;129;01min\u001b[39;00m \u001b[38;5;28mrange\u001b[39m(\u001b[38;5;28mlen\u001b[39m(\u001b[38;5;28mself\u001b[39m\u001b[38;5;241m.\u001b[39mfiles))]\n\u001b[1;32m     22\u001b[0m sparse \u001b[38;5;241m=\u001b[39m [pathdatadict[i]\u001b[38;5;241m.\u001b[39mfinalspar \u001b[38;5;28;01mfor\u001b[39;00m i \u001b[38;5;129;01min\u001b[39;00m \u001b[38;5;28mrange\u001b[39m(\u001b[38;5;28mlen\u001b[39m(\u001b[38;5;28mself\u001b[39m\u001b[38;5;241m.\u001b[39mfiles))]\n",
      "\u001b[0;31mKeyError\u001b[0m: 20"
     ]
    }
   ],
   "source": [
    "mylist = [1, 2, 3, 4]\n",
    "modulidict = {}\n",
    "modulidict['Torus'] = ['traindata/torusl1dog{}.txt'.format(k) for k in mylist]\n",
    "modulidict['Circle'] = ['traindata/circlel1dog{}.txt'.format(k) for k in mylist]\n",
    "modulidict['Sphere'] = ['traindata/spherel1dog{}.txt'.format(k) for k in mylist]\n",
    "modulidict['Klein'] = ['traindata/kleinl1dog{}.txt'.format(k) for k in mylist]\n",
    "modulidict['6-Torus'] = ['traindata/torus6l1dog{}.txt'.format(k) for k in mylist]\n",
    "moduli = tablemaker_withstd(modulidict)\n",
    "\n",
    "controldict = {}\n",
    "controldict['Torus'] = ['traindata/torusl1dog{}.txt'.format(k) for k in mylist]\n",
    "controldict['No reg.'] = ['traindata/noreg{}.txt'.format(k) for k in mylist]\n",
    "controldict['$L_1$'] = ['traindata/l1{}.txt'.format(k) for k in mylist]\n",
    "#controldict['$L_1^*$'] = ['traindata/meanl1{}.txt'.format(k) for k in mylist]\n",
    "controldict['Perm. DoG'] = ['traindata/perml1dog{}.txt'.format(k) for k in mylist]\n",
    "controldict['Perm. Diff.'] = ['traindata/perml1sq{}.txt'.format(k) for k in mylist]\n",
    "control = tablemaker_withstd(controldict)"
   ]
  },
  {
   "cell_type": "code",
   "execution_count": null,
   "id": "62124404",
   "metadata": {},
   "outputs": [],
   "source": []
  }
 ],
 "metadata": {
  "kernelspec": {
   "display_name": "Python 3 (ipykernel)",
   "language": "python",
   "name": "python3"
  },
  "language_info": {
   "codemirror_mode": {
    "name": "ipython",
    "version": 3
   },
   "file_extension": ".py",
   "mimetype": "text/x-python",
   "name": "python",
   "nbconvert_exporter": "python",
   "pygments_lexer": "ipython3",
   "version": "3.10.11"
  }
 },
 "nbformat": 4,
 "nbformat_minor": 5
}
